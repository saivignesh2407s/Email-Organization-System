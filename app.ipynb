{
 "cells": [
  {
   "cell_type": "markdown",
   "id": "32e3fd78",
   "metadata": {},
   "source": [
    "# Enable IMAP access in your Gmail account settings"
   ]
  },
  {
   "cell_type": "code",
   "execution_count": null,
   "id": "d762a28a",
   "metadata": {},
   "outputs": [],
   "source": [
    "# https://mail.google.com/mail/u/0/#settings/fwdandpop"
   ]
  },
  {
   "cell_type": "markdown",
   "id": "d098962c",
   "metadata": {},
   "source": [
    "# Importing Libraries"
   ]
  },
  {
   "cell_type": "code",
   "execution_count": null,
   "id": "7e23332d",
   "metadata": {},
   "outputs": [],
   "source": [
    "import imaplib\n",
    "import email\n",
    "from collections import defaultdict\n",
    "import email.header\n",
    "from email.header import decode_header\n",
    "import webbrowser\n",
    "import re"
   ]
  },
  {
   "cell_type": "markdown",
   "id": "88a380fe",
   "metadata": {},
   "source": [
    "# **Gmail account credentials**"
   ]
  },
  {
   "cell_type": "code",
   "execution_count": null,
   "id": "c26cc269",
   "metadata": {},
   "outputs": [],
   "source": [
    "username = \"bsaivignesh123s@gmail.com\"\n",
    "password = \"svhq xlkg myol pvkl\""
   ]
  },
  {
   "cell_type": "markdown",
   "id": "6cd61730",
   "metadata": {},
   "source": [
    "# IMAP server settings"
   ]
  },
  {
   "cell_type": "code",
   "execution_count": null,
   "id": "bce3b114",
   "metadata": {},
   "outputs": [],
   "source": [
    "imap_server = \"imap.gmail.com\"\n",
    "imap_port = 993"
   ]
  },
  {
   "cell_type": "markdown",
   "id": "cfbf0e48",
   "metadata": {},
   "source": [
    "# Connect to IMAP server"
   ]
  },
  {
   "cell_type": "code",
   "execution_count": null,
   "id": "2a7777f3",
   "metadata": {},
   "outputs": [],
   "source": [
    "mail = imaplib.IMAP4_SSL(imap_server, imap_port)\n",
    "mail.login(username, password)\n",
    "mail.select(\"inbox\")"
   ]
  },
  {
   "cell_type": "markdown",
   "id": "25e74119",
   "metadata": {},
   "source": [
    "# Search for all emails"
   ]
  },
  {
   "cell_type": "code",
   "execution_count": null,
   "id": "2ece6738",
   "metadata": {},
   "outputs": [],
   "source": [
    " status, response = mail.search(None, \"ALL\")  # Search for all emails in the inbox\n",
    "\n",
    "# status, response = mail.search(None, 'UNSEEN')\n",
    "\n",
    "# status, response = mail.search(None, 'FROM', 'marketing@engage.canva.com')"
   ]
  },
  {
   "cell_type": "markdown",
   "id": "a5ea87f0",
   "metadata": {},
   "source": [
    "# Get email IDs"
   ]
  },
  {
   "cell_type": "code",
   "execution_count": null,
   "id": "c1c89fd5",
   "metadata": {},
   "outputs": [],
   "source": [
    "email_ids = response[0].split()"
   ]
  },
  {
   "cell_type": "markdown",
   "id": "dcfb0356",
   "metadata": {},
   "source": [
    "# Create a dictionary to store emails by domain"
   ]
  },
  {
   "cell_type": "code",
   "execution_count": null,
   "id": "7d372ac2",
   "metadata": {},
   "outputs": [],
   "source": [
    "emails_by_domain = defaultdict(list)"
   ]
  },
  {
   "cell_type": "markdown",
   "id": "91dcbe05",
   "metadata": {},
   "source": [
    "# Loop through each email"
   ]
  },
  {
   "cell_type": "code",
   "execution_count": null,
   "id": "56857ea5",
   "metadata": {},
   "outputs": [],
   "source": [
    "for email_id in email_ids:\n",
    "    status, msg = mail.fetch(email_id, \"(RFC822)\")\n",
    "    raw_email = msg[0][1]\n",
    "\n",
    "    # Parse email using the email library\n",
    "    email_message = email.message_from_bytes(raw_email)  # Use the renamed module\n",
    "\n",
    "    # Extract domain from From address\n",
    "    from_addr = email_message[\"From\"]\n",
    "    domain = from_addr.split(\"@\")[-1]\n",
    "\n",
    "    # Decode the subject line\n",
    "    subject, encoding = decode_header(email_message[\"Subject\"])[0]\n",
    "    if isinstance(subject, bytes):\n",
    "        subject = subject.decode(encoding) if encoding else subject.decode('utf-8')\n",
    "\n",
    "    # Extract the email body\n",
    "    email_body = \"\"\n",
    "    if email_message.is_multipart():\n",
    "        for part in email_message.walk():\n",
    "            if part.get_content_type() == \"text/plain\":\n",
    "                email_body = part.get_payload(decode=True).decode(part.get_content_charset() or 'utf-8')\n",
    "                break\n",
    "    else:\n",
    "        email_body = email_message.get_payload(decode=True).decode(email_message.get_content_charset() or 'utf-8')\n",
    "\n",
    "    # Add email to dictionary by domain\n",
    "    emails_by_domain[domain].append({\n",
    "    \"Subject\": subject,\n",
    "    \"From\": from_addr,\n",
    "    \"Body\": email_body,\n",
    "    \"ID\": email_id\n",
    "})"
   ]
  },
  {
   "cell_type": "markdown",
   "id": "c59eb8de",
   "metadata": {},
   "source": [
    "# Printing emails subject by Domain"
   ]
  },
  {
   "cell_type": "code",
   "execution_count": null,
   "id": "f87b439b",
   "metadata": {},
   "outputs": [],
   "source": [
    "for domain, emails in emails_by_domain.items():\n",
    "    print(f\"Domain: {domain}\")\n",
    "    for email in emails:\n",
    "        print(f\"  Subject: {email['Subject']}, From: {email['From']}\")\n",
    "    print(\"\")"
   ]
  },
  {
   "cell_type": "markdown",
   "id": "77034938",
   "metadata": {},
   "source": [
    "# Printing email address by Domain"
   ]
  },
  {
   "cell_type": "code",
   "execution_count": null,
   "id": "87de7c20",
   "metadata": {},
   "outputs": [],
   "source": [
    "for domain, emails in emails_by_domain.items():\n",
    "    print(f\"Domain: {domain}\")\n",
    "    printed = set()\n",
    "    for email in emails:\n",
    "        if email['From'] not in printed:\n",
    "            print(f\"From: {email['From']}\")\n",
    "            printed.add(email['From'])\n",
    "    print(\"\")\n"
   ]
  },
  {
   "cell_type": "markdown",
   "id": "3d569bb1",
   "metadata": {},
   "source": [
    "# Calculate total emails across all domains\n"
   ]
  },
  {
   "cell_type": "code",
   "execution_count": null,
   "id": "8e0b3d67",
   "metadata": {},
   "outputs": [],
   "source": [
    "\n",
    "total_emails_across_domains = sum(len(emails) for emails in emails_by_domain.values())\n",
    "\n",
    "# Print emails by domain with percentage based on the total number of domains\n",
    "\n",
    "for domain, emails in emails_by_domain.items():\n",
    "    domain_percentage = (len(emails) / total_emails_across_domains) * 100\n",
    "    print(f\"Domain: {domain} ({domain_percentage:.2f}% )\")\n",
    "    "
   ]
  },
  {
   "cell_type": "code",
   "execution_count": null,
   "id": "60fef826",
   "metadata": {},
   "outputs": [],
   "source": [
    "Delete()"
   ]
  },
  {
   "cell_type": "code",
   "execution_count": null,
   "id": "b45fc9d9",
   "metadata": {},
   "outputs": [],
   "source": []
  },
  {
   "cell_type": "code",
   "execution_count": null,
   "id": "6f4fea51",
   "metadata": {},
   "outputs": [],
   "source": [
    "def Delete() :\n",
    "    sender = input(\"Enter sender mail to Delete: \")\n",
    "    # Search for emails from sender\n",
    "    status, response = mail.search(None, f'(FROM \"{sender}\")')\n",
    "\n",
    "    # Get email IDs\n",
    "    email_ids = response[0].split()\n",
    "\n",
    "    # Move emails to \"Bin\" folder\n",
    "    for email_id in email_ids:\n",
    "        mail.store(email_id, '+X-GM-LABELS', '\\\\Trash')\n",
    "\n",
    "    # Expunge deleted emails\n",
    "    mail.expunge()\n",
    "    print(f\"Successfully moved {len(email_ids)} emails from {sender} to Bin!\")\n",
    "    print(\"-----------------------------------------------------------------\")\n"
   ]
  },
  {
   "cell_type": "markdown",
   "id": "4280ea89",
   "metadata": {},
   "source": [
    "# Check if the Subject Or Body contains spam keywords"
   ]
  },
  {
   "cell_type": "code",
   "execution_count": null,
   "id": "8a2369ad",
   "metadata": {},
   "outputs": [],
   "source": [
    "spam_keywords = [\n",
    "    \"click here\", \"win a prize\", \"free gift\", \"claim your reward\", \"urgent\", \"act now\", \n",
    "    \"limited time offer\", \"apply now\", \"guaranteed\", \"risk-free\", \"no cost\", \"100% free\", \n",
    "    \"money back\", \"cheap\", \"earn money\", \"exclusive deal\", \"lower rates\", \"get rich quick\", \n",
    "    \"credit score\", \"pre-approved\", \"save big\", \"cash bonus\", \"buy now\", \"make money\", \n",
    "    \"free\", \"win\", \"winner\", \"limited time offer\",\"Spam\"\n",
    "]"
   ]
  },
  {
   "cell_type": "code",
   "execution_count": null,
   "id": "0fb41a52",
   "metadata": {},
   "outputs": [],
   "source": [
    "def extract_unsubscribe_link(body):\n",
    "    # Regex to find unsubscribe links\n",
    "    unsubscribe_links = re.findall(r'(https?://[^\\s]+)', body)\n",
    "    # You may want to filter these links based on known unsubscribe patterns\n",
    "    return [link for link in unsubscribe_links if \"unsubscribe\" in link.lower()]"
   ]
  },
  {
   "cell_type": "code",
   "execution_count": null,
   "id": "2650dd92",
   "metadata": {},
   "outputs": [],
   "source": [
    "for domain, emails in emails_by_domain.items():\n",
    "    for email_info in emails:\n",
    "        subject = email_info[\"Subject\"].lower()\n",
    "        body = email_info.get(\"Body\", \"\").lower()\n",
    "        \n",
    "        spam_found = False\n",
    "\n",
    "        # Check for spam keywords in the subject\n",
    "        if any(keyword in subject for keyword in spam_keywords) or any(keyword in body for keyword in spam_keywords):\n",
    "            print(f\"Domain: {domain}, Subject: {email_info['Subject']}, From: {email_info['From']}\")\n",
    "            spam_found = True\n",
    "\n",
    "        # If spam is found, ask for deletion\n",
    "        if spam_found:\n",
    "            unsubscribe_links = extract_unsubscribe_link(email_info[\"Body\"])\n",
    "            if unsubscribe_links:\n",
    "                print(\"Unsubscribe link(s) found:\")\n",
    "                for link in unsubscribe_links:\n",
    "                    print(link)\n",
    "            print(\"Choose an action:\")\n",
    "            print(\"1: Delete and Unsubscribe\")\n",
    "            print(\"2: Delete Only\")\n",
    "            print(\"3: Unsubscribe Only\")\n",
    "            action = input(\"Enter your choice (1/2/3): \").strip()\n",
    "\n",
    "            if action == \"1\":\n",
    "                # Delete the email and unsubscribe\n",
    "                Delete()\n",
    "                if unsubscribe_links:\n",
    "                    webbrowser.open(unsubscribe_links[0])  # Open the first unsubscribe link\n",
    "                else:\n",
    "                    print(\"No unsubscribe link found.\\n\")   \n",
    "            elif action == \"2\":\n",
    "                # Delete only\n",
    "                Delete()\n",
    "            elif action == \"3\":\n",
    "                # Unsubscribe only\n",
    "                if unsubscribe_links:\n",
    "                    print(\"Following the unsubscribe link...\")\n",
    "                    webbrowser.open(unsubscribe_links[0])  # Open the first unsubscribe link\n",
    "                else:\n",
    "                    print(\"No unsubscribe link found.\\n\")\n",
    "            else :\n",
    "                print(\"Enter the correct action\")"
   ]
  },
  {
   "cell_type": "code",
   "execution_count": 1,
   "id": "be8348bc",
   "metadata": {},
   "outputs": [
    {
     "data": {
      "text/plain": [
       "'\\n\\n# Enable IMAP access in your Gmail account settings\\n\\n# https://mail.google.com/mail/u/0/#settings/fwdandpop\\n\\n# Importing Libraries\\n\\nimport imaplib\\nimport email\\nfrom collections import defaultdict\\nimport email.header\\nfrom email.header import decode_header\\nimport webbrowser\\nimport re\\n\\n# **Gmail account credentials**\\n\\nusername = \"bsaivignesh123s@gmail.com\"\\npassword = \"svhq xlkg myol pvkl\"\\n\\n# IMAP server settings\\n\\nimap_server = \"imap.gmail.com\"\\nimap_port = 993\\n\\n# Connect to IMAP server\\n\\nmail = imaplib.IMAP4_SSL(imap_server, imap_port)\\nmail.login(username, password)\\nmail.select(\"inbox\")\\n\\n# Search for all emails\\n\\n status, response = mail.search(None, \"ALL\")  # Search for all emails in the inbox\\n\\n# status, response = mail.search(None, \\'UNSEEN\\')\\n\\n# status, response = mail.search(None, \\'FROM\\', \\'marketing@engage.canva.com\\')\\n\\n# Get email IDs\\n\\nemail_ids = response[0].split()\\n\\n# Create a dictionary to store emails by domain\\n\\nemails_by_domain = defaultdict(list)\\n\\n# Loop through each email\\n\\nfor email_id in email_ids:\\n    status, msg = mail.fetch(email_id, \"(RFC822)\")\\n    raw_email = msg[0][1]\\n\\n    # Parse email using the email library\\n    email_message = email.message_from_bytes(raw_email)  # Use the renamed module\\n\\n    # Extract domain from From address\\n    from_addr = email_message[\"From\"]\\n    domain = from_addr.split(\"@\")[-1]\\n\\n    # Decode the subject line\\n    subject, encoding = decode_header(email_message[\"Subject\"])[0]\\n    if isinstance(subject, bytes):\\n        subject = subject.decode(encoding) if encoding else subject.decode(\\'utf-8\\')\\n\\n    # Extract the email body\\n    email_body = \"\"\\n    if email_message.is_multipart():\\n        for part in email_message.walk():\\n            if part.get_content_type() == \"text/plain\":\\n                email_body = part.get_payload(decode=True).decode(part.get_content_charset() or \\'utf-8\\')\\n                break\\n    else:\\n        email_body = email_message.get_payload(decode=True).decode(email_message.get_content_charset() or \\'utf-8\\')\\n\\n    # Add email to dictionary by domain\\n    emails_by_domain[domain].append({\\n    \"Subject\": subject,\\n    \"From\": from_addr,\\n    \"Body\": email_body,\\n    \"ID\": email_id\\n})\\n\\n# Printing emails subject by Domain\\n\\nfor domain, emails in emails_by_domain.items():\\n    print(f\"Domain: {domain}\")\\n    for email in emails:\\n        print(f\"  Subject: {email[\\'Subject\\']}, From: {email[\\'From\\']}\")\\n    print(\"\")\\n\\n# Printing email address by Domain\\n\\nfor domain, emails in emails_by_domain.items():\\n    print(f\"Domain: {domain}\")\\n    printed = set()\\n    for email in emails:\\n        if email[\\'From\\'] not in printed:\\n            print(f\"From: {email[\\'From\\']}\")\\n            printed.add(email[\\'From\\'])\\n    print(\"\")\\n\\n\\n# Calculate total emails across all domains\\n\\n\\n\\ntotal_emails_across_domains = sum(len(emails) for emails in emails_by_domain.values())\\n\\n# Print emails by domain with percentage based on the total number of domains\\n\\nfor domain, emails in emails_by_domain.items():\\n    domain_percentage = (len(emails) / total_emails_across_domains) * 100\\n    print(f\"Domain: {domain} ({domain_percentage:.2f}% )\")\\n    \\n\\nDelete()\\n\\n\\n\\ndef Delete() :\\n    sender = input(\"Enter sender mail to Delete: \")\\n    # Search for emails from sender\\n    status, response = mail.search(None, f\\'(FROM \"{sender}\")\\')\\n\\n    # Get email IDs\\n    email_ids = response[0].split()\\n\\n    # Move emails to \"Bin\" folder\\n    for email_id in email_ids:\\n        mail.store(email_id, \\'+X-GM-LABELS\\', \\'\\\\Trash\\')\\n\\n    # Expunge deleted emails\\n    mail.expunge()\\n    print(f\"Successfully moved {len(email_ids)} emails from {sender} to Bin!\")\\n    print(\"-----------------------------------------------------------------\")\\n\\n\\n# Check if the Subject Or Body contains spam keywords\\n\\nspam_keywords = [\\n    \"click here\", \"win a prize\", \"free gift\", \"claim your reward\", \"urgent\", \"act now\", \\n    \"limited time offer\", \"apply now\", \"guaranteed\", \"risk-free\", \"no cost\", \"100% free\", \\n    \"money back\", \"cheap\", \"earn money\", \"exclusive deal\", \"lower rates\", \"get rich quick\", \\n    \"credit score\", \"pre-approved\", \"save big\", \"cash bonus\", \"buy now\", \"make money\", \\n    \"free\", \"win\", \"winner\", \"limited time offer\",\"Spam\"\\n]\\n\\ndef extract_unsubscribe_link(body):\\n    # Regex to find unsubscribe links\\n    unsubscribe_links = re.findall(r\\'(https?://[^\\\\s]+)\\', body)\\n    # You may want to filter these links based on known unsubscribe patterns\\n    return [link for link in unsubscribe_links if \"unsubscribe\" in link.lower()]\\n\\nfor domain, emails in emails_by_domain.items():\\n    for email_info in emails:\\n        subject = email_info[\"Subject\"].lower()\\n        body = email_info.get(\"Body\", \"\").lower()\\n        \\n        spam_found = False\\n\\n        # Check for spam keywords in the subject\\n        if any(keyword in subject for keyword in spam_keywords) or any(keyword in body for keyword in spam_keywords):\\n            print(f\"Domain: {domain}, Subject: {email_info[\\'Subject\\']}, From: {email_info[\\'From\\']}\")\\n            spam_found = True\\n\\n        # If spam is found, ask for deletion\\n        if spam_found:\\n            unsubscribe_links = extract_unsubscribe_link(email_info[\"Body\"])\\n            if unsubscribe_links:\\n                print(\"Unsubscribe link(s) found:\")\\n                for link in unsubscribe_links:\\n                    print(link)\\n            print(\"Choose an action:\")\\n            print(\"1: Delete and Unsubscribe\")\\n            print(\"2: Delete Only\")\\n            print(\"3: Unsubscribe Only\")\\n            action = input(\"Enter your choice (1/2/3): \").strip()\\n\\n            if action == \"1\":\\n                # Delete the email and unsubscribe\\n                Delete()\\n                if unsubscribe_links:\\n                    webbrowser.open(unsubscribe_links[0])  # Open the first unsubscribe link\\n                else:\\n                    print(\"No unsubscribe link found.\\n\")   \\n            elif action == \"2\":\\n                # Delete only\\n                Delete()\\n            elif action == \"3\":\\n                # Unsubscribe only\\n                if unsubscribe_links:\\n                    print(\"Following the unsubscribe link...\")\\n                    webbrowser.open(unsubscribe_links[0])  # Open the first unsubscribe link\\n                else:\\n                    print(\"No unsubscribe link found.\\n\")\\n            else :\\n                print(\"Enter the correct action\")\\n\\n'"
      ]
     },
     "execution_count": 1,
     "metadata": {},
     "output_type": "execute_result"
    }
   ],
   "source": [
    "'''\n",
    "\n",
    
