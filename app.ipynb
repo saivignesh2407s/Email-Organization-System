{
 "cells": [
  {
   "cell_type": "markdown",
   "id": "32e3fd78",
   "metadata": {},
   "source": [
    "# Enable IMAP access in your Gmail account settings"
   ]
  },
  {
   "cell_type": "code",
   "execution_count": 1,
   "id": "d762a28a",
   "metadata": {},
   "outputs": [],
   "source": [
    "# https://mail.google.com/mail/u/0/#settings/fwdandpop"
   ]
  },
  {
   "cell_type": "markdown",
   "id": "d098962c",
   "metadata": {},
   "source": [
    "# Importing Libraries"
   ]
  },
  {
   "cell_type": "code",
   "execution_count": 2,
   "id": "7e23332d",
   "metadata": {},
   "outputs": [],
   "source": [
    "import imaplib\n",
    "import email\n",
    "from collections import defaultdict\n",
    "import email.header\n",
    "from email.header import decode_header"
   ]
  },
  {
   "cell_type": "markdown",
   "id": "88a380fe",
   "metadata": {},
   "source": [
    "# **Gmail account credentials**"
   ]
  },
  {
   "cell_type": "code",
   "execution_count": 3,
   "id": "c26cc269",
   "metadata": {},
   "outputs": [],
   "source": [
    "username = \"bsaivignesh123s@gmail.com\"\n",
    "password = \"svhq xlkg myol pvkl\""
   ]
  },
  {
   "cell_type": "markdown",
   "id": "6cd61730",
   "metadata": {},
   "source": [
    "# IMAP server settings"
   ]
  },
  {
   "cell_type": "code",
   "execution_count": 4,
   "id": "bce3b114",
   "metadata": {},
   "outputs": [],
   "source": [
    "imap_server = \"imap.gmail.com\"\n",
    "imap_port = 993"
   ]
  },
  {
   "cell_type": "markdown",
   "id": "cfbf0e48",
   "metadata": {},
   "source": [
    "# Connect to IMAP server"
   ]
  },
  {
   "cell_type": "code",
   "execution_count": 5,
   "id": "2a7777f3",
   "metadata": {},
   "outputs": [
    {
     "data": {
      "text/plain": [
       "('OK', [b'111'])"
      ]
     },
     "execution_count": 5,
     "metadata": {},
     "output_type": "execute_result"
    }
   ],
   "source": [
    "mail = imaplib.IMAP4_SSL(imap_server, imap_port)\n",
    "mail.login(username, password)\n",
    "mail.select(\"inbox\")"
   ]
  },
  {
   "cell_type": "markdown",
   "id": "25e74119",
   "metadata": {},
   "source": [
    "# Search for all emails"
   ]
  },
  {
   "cell_type": "code",
   "execution_count": 6,
   "id": "2ece6738",
   "metadata": {},
   "outputs": [],
   "source": [
    "status, response = mail.search(None, \"ALL\")  # Search for all emails in the inbox\n",
    "\n",
    "# status, response = mail.search(None, 'UNSEEN')\n",
    "\n",
    "# status, response = mail.search(None, 'FROM', 'marketing@engage.canva.com')"
   ]
  },
  {
   "cell_type": "markdown",
   "id": "a5ea87f0",
   "metadata": {},
   "source": [
    "# Get email IDs"
   ]
  },
  {
   "cell_type": "code",
   "execution_count": 7,
   "id": "c1c89fd5",
   "metadata": {},
   "outputs": [],
   "source": [
    "email_ids = response[0].split()"
   ]
  },
  {
   "cell_type": "markdown",
   "id": "dcfb0356",
   "metadata": {},
   "source": [
    "# Create a dictionary to store emails by domain"
   ]
  },
  {
   "cell_type": "code",
   "execution_count": 8,
   "id": "7d372ac2",
   "metadata": {},
   "outputs": [],
   "source": [
    "emails_by_domain = defaultdict(list)"
   ]
  },
  {
   "cell_type": "markdown",
   "id": "91dcbe05",
   "metadata": {},
   "source": [
    "# Loop through each email"
   ]
  },
  {
   "cell_type": "code",
   "execution_count": 9,
   "id": "56857ea5",
   "metadata": {},
   "outputs": [],
   "source": [
    "for email_id in email_ids:\n",
    "    status, msg = mail.fetch(email_id, \"(RFC822)\")\n",
    "    raw_email = msg[0][1]\n",
    "\n",
    "    # Parse email using the email library\n",
    "    email_message = email.message_from_bytes(raw_email)  # Use the renamed module\n",
    "\n",
    "    # Extract domain from From address\n",
    "    from_addr = email_message[\"From\"]\n",
    "    domain = from_addr.split(\"@\")[-1]\n",
    "\n",
    "    # Decode the subject line\n",
    "    subject, encoding = decode_header(email_message[\"Subject\"])[0]\n",
    "    if isinstance(subject, bytes):\n",
    "        subject = subject.decode(encoding) if encoding else subject.decode('utf-8')\n",
    "\n",
    "    # Extract the email body\n",
    "    email_body = \"\"\n",
    "    if email_message.is_multipart():\n",
    "        for part in email_message.walk():\n",
    "            if part.get_content_type() == \"text/plain\":\n",
    "                email_body = part.get_payload(decode=True).decode(part.get_content_charset() or 'utf-8')\n",
    "                break\n",
    "    else:\n",
    "        email_body = email_message.get_payload(decode=True).decode(email_message.get_content_charset() or 'utf-8')\n",
    "\n",
    "    # Add email to dictionary by domain\n",
    "    emails_by_domain[domain].append({\n",
    "    \"Subject\": subject,\n",
    "    \"From\": from_addr,\n",
    "    \"Body\": email_body,\n",
    "    \"ID\": email_id\n",
    "})"
   ]
  },
  {
   "cell_type": "markdown",
   "id": "c59eb8de",
   "metadata": {},
   "source": [
    "# Printing emails subject by Domain"
   ]
  },
  {
   "cell_type": "code",
   "execution_count": 17,
   "id": "f87b439b",
   "metadata": {},
   "outputs": [
    {
     "name": "stdout",
     "output_type": "stream",
     "text": [
      "Domain: email.bing.com>\n",
      "  Subject: Trending news: 'Shaan Na Jaye': A Billionaire Who Was, From: Microsoft Bing <hello@email.bing.com>\n",
      "  Subject: Trending news: Minhaj Zaidi Story: Hyderabad Engineer,, From: Microsoft Bing <hello@email.bing.com>\n",
      "  Subject: Trending news: Venezuela model Ariana Viera dies at 26 and more, From: Microsoft Bing <hello@email.bing.com>\n",
      "\n",
      "Domain: communication.microsoft.com>\n",
      "  Subject: Updates to our terms of use, From: Microsoft <msa@communication.microsoft.com>\n",
      "\n",
      "Domain: otter.ai>\n",
      "  Subject: We'd love to hear from you Sai, From: \"Otter.ai\" <no-reply@otter.ai>\n",
      "\n",
      "Domain: datacamp.com>\n",
      "  Subject: Challenge: Complete 1 chapter today, From: DataCamp <team@datacamp.com>\n",
      "  Subject: It’s really that easy? Yes., From: DataCamp <team@datacamp.com>\n",
      "  Subject: Get certified—take your career to the next level!, From: DataCamp <team@datacamp.com>\n",
      "  Subject: Sai, don't get left behind, From: DataCamp <team@datacamp.com>\n",
      "  Subject: Get certified and prove you're job-ready!, From: DataCamp <team@datacamp.com>\n",
      "  Subject: Data & AI Trends & Predictions 2024 + more!, From: DataCamp Insights <team@datacamp.com>\n",
      "  Subject: Sai, apply your skills with Projects, From: DataCamp <team@datacamp.com>\n",
      "  Subject: Top courses of 2023!, From: DataCamp <team@datacamp.com>\n",
      "  Subject: Sai, build your data science portfolio, From: DataCamp <team@datacamp.com>\n",
      "  Subject: Challenge for Sai: Complete 1 free chapter today!, From: Amanda at DataCamp <team@datacamp.com>\n",
      "  Subject: Track Spotlight: Data Analyst in SQL, From: DataCamp Insights <team@datacamp.com>\n",
      "  Subject: Almost Over: 50% Off, From: DataCamp <team@datacamp.com>\n",
      "\n",
      "Domain: tome.app>\n",
      "  Subject: Help us make Tome better, From: Tome Team <team@tome.app>\n",
      "  Subject: Help us make Tome better, From: Tome Team <team@tome.app>\n",
      "\n",
      "Domain: updates.otter.ai>\n",
      "  Subject: Take Otter® anywhere with the mobile app, From: \"The Otter.ai Team\" <no-reply@updates.otter.ai>\n",
      "  Subject: Otter® product tip: calendar & meeting participant connection, From: \"The Otter.ai Team\" <no-reply@updates.otter.ai>\n",
      "  Subject: Save time by sending OtterPilot™ to take your meeting notes, From: \"The Otter.ai Team\" <no-reply@updates.otter.ai>\n",
      "  Subject: 🏦 Calculate how much money meetings are costing you, From: \"The Otter.ai Team\" <no-reply@updates.otter.ai>\n",
      "  Subject: Are you making the most of Otter®?, From: \"The Otter.ai Team\" <no-reply@updates.otter.ai>\n",
      "  Subject: Hello from Otter®, From: \"The Otter.ai Team\" <no-reply@updates.otter.ai>\n",
      "\n",
      "Domain: marketing.otter.ai>\n",
      "  Subject: ⚡ Supercharge your workday with AI, From: \"The Otter.ai Team\" <no-reply@marketing.otter.ai>\n",
      "\n",
      "Domain: emails.chegg.com>\n",
      "  Subject: Study help is waiting, From: \"Chegg\" <chegg@emails.chegg.com>\n",
      "  Subject: Decipher your homework with expert support, Sai, From: \"Chegg\" <chegg@emails.chegg.com>\n",
      "\n",
      "Domain: mailer.resume-now.com>\n",
      "  Subject: Still looking for a better job?, From: Resume-Now <support@mailer.resume-now.com>\n",
      "  Subject: Your Resume-Now Progress Report, From: Resume-Now <support@mailer.resume-now.com>\n",
      "  Subject: This is what’s missing from your resume, From: Resume-Now <support@mailer.resume-now.com>\n",
      "  Subject: Kancharla, download your resume and start applying!, From: Resume-Now <support@mailer.resume-now.com>\n",
      "\n",
      "Domain: google.com>\n",
      "  Subject: Apply for RuPay Credit Card, From: Jupiter <mail-noreply@google.com>\n",
      "\n",
      "Domain: waveroom.com>\n",
      "  Subject: Introducing Noise Removal & Making Waveroom Free for Everyone, From: Waveroom <noreply@waveroom.com>\n",
      "\n",
      "Domain: discover.pinterest.com>\n",
      "  Subject: Sai, you have a good eye, From: Pinterest <recommendations@discover.pinterest.com>\n",
      "  Subject: ❤ Inspired by Sai, From: Pinterest <recommendations@discover.pinterest.com>\n",
      "  Subject: ❤ Sai, these ideas are so you, From: Pinterest <recommendations@discover.pinterest.com>\n",
      "  Subject: ❤ Inspired by Sai, From: Pinterest <recommendations@discover.pinterest.com>\n",
      "  Subject: ❤ Sai, these ideas are so you, From: Pinterest <recommendations@discover.pinterest.com>\n",
      "  Subject: ❤ Inspired by Sai, From: Pinterest <recommendations@discover.pinterest.com>\n",
      "  Subject: ❤ Inspired by Sai, From: Pinterest <recommendations@discover.pinterest.com>\n",
      "\n",
      "Domain: quora.com>\n",
      "  Subject: How does TTE catch people without a ticket from a crowd?, From: Quora Digest <english-personalized-digest@quora.com>\n",
      "  Subject: RESPECT : \"I heard my mother asking the neighbors for salt.\" But we had salt in the house. I asked her why she was asking the neighbors for salt. A..., From: Quora Suggested Spaces <realworldhistory-space@quora.com>\n",
      "  Subject: How do females urinate in the shower, standing or squatting?, From: Quora Digest <english-personalized-digest@quora.com>\n",
      "  Subject: Did Mahabharata begin with a dog?, From: Quora Digest <english-personalized-digest@quora.com>\n",
      "  Subject: Who are the most feared warriors in history?, From: Quora Suggested Spaces <realworldhistory-space@quora.com>\n",
      "  Subject: What do Muslims think of Hindus?, From: Quora Digest <english-personalized-digest@quora.com>\n",
      "  Subject: What do you know about Geminis? What are your experiences with them?, From: Quora Suggested Spaces <womenszone-space@quora.com>\n",
      "  Subject: Please note, this has graphic photos. They may cause triggers. Viewer Discrection is Advised. - What is the cruelest thing you have heard about WW2?, From: Quora Suggested Spaces <kitchensink-space@quora.com>\n",
      "  Subject: What are some of the most epic photos ever taken?, From: Quora Suggested Spaces\r\n",
      " <photosthatarebothmajesticandnotsomajestic-space@quora.com>\n",
      "  Subject: My sister is 28 with 5 kids that she doesn't want to look after, so she drops them of...?, From: Quora Digest <english-personalized-digest@quora.com>\n",
      "  Subject: *मुंह में मिर्च भरकर फेवीक्विक से चिपका दिए थे लड़की के होंठ... अब आरोपी के घर पर चला बुलडोजर*, From: Quora Suggested Spaces <dailynewspaper1-space@quora.com>\n",
      "  Subject: Is Islam by far the worst religion?, From: Quora Digest <english-personalized-digest@quora.com>\n",
      "  Subject: What phone should I never buy?, From: Quora Digest <english-personalized-digest@quora.com>\n",
      "  Subject: I scored 951 marks in NEET. What college will I suppose to get?, From: Quora Digest <english-personalized-digest@quora.com>\n",
      "  Subject: I have 83 lakh of rupees. I will retire next month. Where should I invest so that I g...?, From: Quora Digest <english-personalized-digest@quora.com>\n",
      "  Subject: My husband and I keep trying for a son but we always got daughters, Is there somethin...?, From: Quora Digest <english-personalized-digest@quora.com>\n",
      "  Subject: Was Lord Rama a non-vegetarian?, From: Quora Digest <english-personalized-digest@quora.com>\n",
      "  Subject: My 12-year-old daughter wants to have a sleepover with several of her friends. I am a...?, From: Quora Digest <english-personalized-digest@quora.com>\n",
      "  Subject: I got an email from an advocate for a legal notice to pay for an HDFC credit card to ...?, From: Quora Digest <english-personalized-digest@quora.com>\n",
      "  Subject: Why do daughters-in-law of this generation not want to live with their in-laws anymore?, From: Quora Digest <english-personalized-digest@quora.com>\n",
      "  Subject: Is the Kalki Avatar already born?, From: Quora Digest <english-personalized-digest@quora.com>\n",
      "  Subject: Why was Rama born after 12 months of pregnancy? What is the truth?, From: Quora Digest <english-personalized-digest@quora.com>\n",
      "  Subject: Do Hindus know that Prophet Muhammad is mentioned in all eight mantras of the Rigveda...?, From: Quora Digest <english-personalized-digest@quora.com>\n",
      "  Subject: My mom took a personal loan in a bank. My mom unfortunately died. What about that loa...?, From: Quora Digest <english-personalized-digest@quora.com>\n",
      "  Subject: What is a decent salary in India nowadays?, From: Quora Suggested Spaces <financialupdates-space@quora.com>\n",
      "  Subject: In an interview, I have been asked, \"How would you sell a refrigerator in Antarctica?...?, From: Quora Digest <english-personalized-digest@quora.com>\n",
      "  Subject: If karma works, why are so many corrupt people successful? Why do good people have to...?, From: Quora Digest <english-personalized-digest@quora.com>\n",
      "  Subject: Thread of last phone calls made by 9/11 victims to their loved ones… 1.  2.  3.  4.  5.  6.  7.  8. odd Beamer was a passenger on United Flight 93 ..., From: Quora Suggested Spaces <webseriesmoviessongs-space@quora.com>\n",
      "  Subject: What are the most mind blowing facts about Indian politicians?, From: Quora Suggested Spaces <knowledgenwisdom-space@quora.com>\n",
      "  Subject: What surprised you today?, From: Quora Suggested Spaces <darksecretsdaily-space@quora.com>\n",
      "  Subject: What pictures fooled you the most?, From: Quora Suggested Spaces\r\n",
      " <photosthatarebothmajesticandnotsomajestic-space@quora.com>\n",
      "  Subject: What can we learn from Mahabharat?, From: Quora Suggested Spaces <wonderwatch-space@quora.com>\n",
      "  Subject: It took me my 20s and 30s to learn what I will teach you here in 3 minutes:, From: Quora Suggested Spaces <relationship-help-space@quora.com>\n",
      "  Subject: Krishna was born in 3228 BC. If He is God, then who created the universe, which has b...?, From: Quora Digest <english-personalized-digest@quora.com>\n",
      "  Subject: How do females urinate in the shower, standing or squatting?, From: Quora Digest <english-personalized-digest@quora.com>\n",
      "  Subject: What is the most shameless thing you have ever seen a teacher do?, From: Quora Digest <english-personalized-digest@quora.com>\n",
      "  Subject: 26 year old veterinary doctor ‘Priyanka Reddy’ was r@ped by 4 animalistic humans named -  Mohammad Areef, Jollu Shiva, Jollu Naveen, and Chintakunt..., From: Quora Suggested Spaces <amankumarsspace024-space@quora.com>\n",
      "  Subject: What's the weirdest thing you've found in a hotel room?, From: Quora Digest <english-personalized-digest@quora.com>\n",
      "  Subject: My father is no more. He has left a big credit card bill which I am not able to pay b...?, From: Quora Digest <english-personalized-digest@quora.com>\n",
      "  Subject: My age is 26. I almost attend 30 interviews but was still not selected. Now I am losi...?, From: Quora Digest <english-personalized-digest@quora.com>\n",
      "  Subject: I'm a 13-year-old girl and my pee makes a loud kind of hissing sound sometimes. Is th...?, From: Quora Digest <english-personalized-digest@quora.com>\n",
      "  Subject: Why do Jains believe that Lord Krishna is in hell?, From: Quora Digest <english-personalized-digest@quora.com>\n",
      "  Subject: If Aryabhatta invented 0 then how do we know that Ravana had 10 heads?, From: Quora Digest <english-personalized-digest@quora.com>\n",
      "  Subject: When Panchali died, why did Yudhistira replied to the Pandavas that she loved Arjuna ...?, From: Quora Digest <english-personalized-digest@quora.com>\n",
      "  Subject: Where is Ashwatthama now?, From: Quora Digest <english-personalized-digest@quora.com>\n",
      "\n",
      "Domain: ideas.pinterest.com>\n",
      "  Subject: Sai, you have a good eye, From: \"=?utf-8?q?Pinterest?=\" <pinterest-recommendations@ideas.pinterest.com>\n",
      "  Subject: Sai, you have a good eye, From: \"=?utf-8?q?Pinterest?=\" <pinterest-recommendations@ideas.pinterest.com>\n",
      "  Subject: Sai, you have a good eye, From: \"=?utf-8?q?Pinterest?=\" <pinterest-recommendations@ideas.pinterest.com>\n",
      "  Subject: ❤ Sai, these ideas are so you, From: \"=?utf-8?q?Pinterest?=\" <pinterest-recommendations@ideas.pinterest.com>\n",
      "\n",
      "Domain: explore.pinterest.com>\n",
      "  Subject: ❤ Sai, these ideas are so you, From: \"=?utf-8?q?Pinterest?=\" <recommendations@explore.pinterest.com>\n",
      "\n",
      "Domain: mail.beehiiv.com>\n",
      "  Subject: Please , From: Peter from Kickresume <tomas-newsletter-c6999b@mail.beehiiv.com>\n",
      "  Subject: Gen Z are burning down the career ladder, From: Peter from Kickresume <tomas-newsletter-c6999b@mail.beehiiv.com>\n",
      "\n",
      "Domain: newsletter.springernature.com>\n",
      "  Subject: Start your journey with Springer Nature, From: Springer Nature <springernature@newsletter.springernature.com>\n",
      "  Subject: A home for all research—exploring Springer Nature's brands, From: Springer Nature <springernature@newsletter.springernature.com>\n",
      "  Subject: Millions of articles and chapters at SpringerLink, From: Springer Nature <springernature@newsletter.springernature.com>\n",
      "\n",
      "Domain: inspire.pinterest.com>\n",
      "  Subject: Sai, you have a good eye, From: \"=?utf-8?q?Pinterest?=\" <recommendations@inspire.pinterest.com>\n",
      "\n",
      "Domain: accounts.google.com>\n",
      "  Subject: Security alert, From: Google <no-reply@accounts.google.com>\n",
      "  Subject: Security alert, From: Google <no-reply@accounts.google.com>\n",
      "\n",
      "Domain: amcatmail.com>\n",
      "  Subject: Verify OTP, From: Team AMCAT <admin@amcatmail.com>\n",
      "\n",
      "Domain: amcatmail.com\n",
      "  Subject: Welcome to Myamcat, From: admin@amcatmail.com\n",
      "\n",
      "Domain: careerflow.ai>\n",
      "  Subject: Welcome to Careerflow. Your job search companion is here!, From: \"Careerflow Team\" <noreply@careerflow.ai>\n",
      "\n",
      "Domain: resumeworded.com>\n",
      "  Subject: Your resume score + feedback (you scored 34/100), From: Resume Worded <support@resumeworded.com>\n",
      "\n",
      "Domain: mautem.resumeworded.com>\n",
      "  Subject: Your resume score, From: Resume Worded <contact@mautem.resumeworded.com>\n",
      "  Subject: Why hirinng managerrs love this 6-lettr word, From: Resume Worded <contact@mautem.resumeworded.com>\n",
      "  Subject: The , From: Resume Worded <contact@mautem.resumeworded.com>\n",
      "\n",
      "Domain: vbithyd.ac.in>\n",
      "  Subject: Spam, From: BADUGU SAI VIGNESH <21p61a6610@vbithyd.ac.in>\n",
      "\n",
      "Domain: youtube.com>\n",
      "  Subject: Annual reminder about YouTube’s Terms of Service, Community Guidelines and Privacy Policy\r\n",
      ", From: YouTube <no-reply@youtube.com>\n",
      "\n",
      "Domain: flowcv.com>\n",
      "  Subject: FlowCV , From: FlowCV <hello@flowcv.com>\n",
      "\n",
      "Domain: flashgetkids.com>\n",
      "  Subject: [FlashGet Kids] Please bind your child's device, From: flashget <no-reply@flashgetkids.com>\n",
      "  Subject: FlashGet Kids: What You Need to Know, From: flashget <no-reply@flashgetkids.com>\n",
      "\n"
     ]
    }
   ],
   "source": [
    "for domain, emails in emails_by_domain.items():\n",
    "    print(f\"Domain: {domain}\")\n",
    "    for email in emails:\n",
    "        print(f\"  Subject: {email['Subject']}, From: {email['From']}\")\n",
    "    print(\"\")"
   ]
  },
  {
   "cell_type": "markdown",
   "id": "77034938",
   "metadata": {},
   "source": [
    "# Printing email address by Domain"
   ]
  },
  {
   "cell_type": "code",
   "execution_count": 11,
   "id": "87de7c20",
   "metadata": {},
   "outputs": [
    {
     "name": "stdout",
     "output_type": "stream",
     "text": [
      "Domain: email.bing.com>\n",
      "From: Microsoft Bing <hello@email.bing.com>\n",
      "\n",
      "Domain: communication.microsoft.com>\n",
      "From: Microsoft <msa@communication.microsoft.com>\n",
      "\n",
      "Domain: otter.ai>\n",
      "From: \"Otter.ai\" <no-reply@otter.ai>\n",
      "\n",
      "Domain: datacamp.com>\n",
      "From: DataCamp <team@datacamp.com>\n",
      "From: DataCamp Insights <team@datacamp.com>\n",
      "From: Amanda at DataCamp <team@datacamp.com>\n",
      "\n",
      "Domain: tome.app>\n",
      "From: Tome Team <team@tome.app>\n",
      "\n",
      "Domain: updates.otter.ai>\n",
      "From: \"The Otter.ai Team\" <no-reply@updates.otter.ai>\n",
      "\n",
      "Domain: marketing.otter.ai>\n",
      "From: \"The Otter.ai Team\" <no-reply@marketing.otter.ai>\n",
      "\n",
      "Domain: emails.chegg.com>\n",
      "From: \"Chegg\" <chegg@emails.chegg.com>\n",
      "\n",
      "Domain: mailer.resume-now.com>\n",
      "From: Resume-Now <support@mailer.resume-now.com>\n",
      "\n",
      "Domain: google.com>\n",
      "From: Jupiter <mail-noreply@google.com>\n",
      "\n",
      "Domain: waveroom.com>\n",
      "From: Waveroom <noreply@waveroom.com>\n",
      "\n",
      "Domain: discover.pinterest.com>\n",
      "From: Pinterest <recommendations@discover.pinterest.com>\n",
      "\n",
      "Domain: quora.com>\n",
      "From: Quora Digest <english-personalized-digest@quora.com>\n",
      "From: Quora Suggested Spaces <realworldhistory-space@quora.com>\n",
      "From: Quora Suggested Spaces <womenszone-space@quora.com>\n",
      "From: Quora Suggested Spaces <kitchensink-space@quora.com>\n",
      "From: Quora Suggested Spaces\r\n",
      " <photosthatarebothmajesticandnotsomajestic-space@quora.com>\n",
      "From: Quora Suggested Spaces <dailynewspaper1-space@quora.com>\n",
      "From: Quora Suggested Spaces <financialupdates-space@quora.com>\n",
      "From: Quora Suggested Spaces <webseriesmoviessongs-space@quora.com>\n",
      "From: Quora Suggested Spaces <knowledgenwisdom-space@quora.com>\n",
      "From: Quora Suggested Spaces <darksecretsdaily-space@quora.com>\n",
      "From: Quora Suggested Spaces <wonderwatch-space@quora.com>\n",
      "From: Quora Suggested Spaces <relationship-help-space@quora.com>\n",
      "From: Quora Suggested Spaces <amankumarsspace024-space@quora.com>\n",
      "\n",
      "Domain: ideas.pinterest.com>\n",
      "From: \"=?utf-8?q?Pinterest?=\" <pinterest-recommendations@ideas.pinterest.com>\n",
      "\n",
      "Domain: explore.pinterest.com>\n",
      "From: \"=?utf-8?q?Pinterest?=\" <recommendations@explore.pinterest.com>\n",
      "\n",
      "Domain: mail.beehiiv.com>\n",
      "From: Peter from Kickresume <tomas-newsletter-c6999b@mail.beehiiv.com>\n",
      "\n",
      "Domain: newsletter.springernature.com>\n",
      "From: Springer Nature <springernature@newsletter.springernature.com>\n",
      "\n",
      "Domain: inspire.pinterest.com>\n",
      "From: \"=?utf-8?q?Pinterest?=\" <recommendations@inspire.pinterest.com>\n",
      "\n",
      "Domain: accounts.google.com>\n",
      "From: Google <no-reply@accounts.google.com>\n",
      "\n",
      "Domain: amcatmail.com>\n",
      "From: Team AMCAT <admin@amcatmail.com>\n",
      "\n",
      "Domain: amcatmail.com\n",
      "From: admin@amcatmail.com\n",
      "\n",
      "Domain: careerflow.ai>\n",
      "From: \"Careerflow Team\" <noreply@careerflow.ai>\n",
      "\n",
      "Domain: resumeworded.com>\n",
      "From: Resume Worded <support@resumeworded.com>\n",
      "\n",
      "Domain: mautem.resumeworded.com>\n",
      "From: Resume Worded <contact@mautem.resumeworded.com>\n",
      "\n",
      "Domain: vbithyd.ac.in>\n",
      "From: BADUGU SAI VIGNESH <21p61a6610@vbithyd.ac.in>\n",
      "\n",
      "Domain: youtube.com>\n",
      "From: YouTube <no-reply@youtube.com>\n",
      "\n",
      "Domain: flowcv.com>\n",
      "From: FlowCV <hello@flowcv.com>\n",
      "\n",
      "Domain: flashgetkids.com>\n",
      "From: flashget <no-reply@flashgetkids.com>\n",
      "\n"
     ]
    }
   ],
   "source": [
    "for domain, emails in emails_by_domain.items():\n",
    "    print(f\"Domain: {domain}\")\n",
    "    printed = set()\n",
    "    for email in emails:\n",
    "        if email['From'] not in printed:\n",
    "            print(f\"From: {email['From']}\")\n",
    "            printed.add(email['From'])\n",
    "    print(\"\")\n"
   ]
  },
  {
   "cell_type": "code",
   "execution_count": null,
   "id": "2a34f345",
   "metadata": {},
   "outputs": [],
   "source": []
  },
  {
   "cell_type": "code",
   "execution_count": 12,
   "id": "60fef826",
   "metadata": {},
   "outputs": [
    {
     "name": "stdout",
     "output_type": "stream",
     "text": [
      "Enter sender mail to Delete: no-reply@flashgetkids.com\n"
     ]
    }
   ],
   "source": [
    "sender = input(\"Enter sender mail to Delete: \")\n"
   ]
  },
  {
   "cell_type": "code",
   "execution_count": null,
   "id": "b45fc9d9",
   "metadata": {},
   "outputs": [],
   "source": []
  },
  {
   "cell_type": "code",
   "execution_count": 13,
   "id": "6f4fea51",
   "metadata": {},
   "outputs": [
    {
     "name": "stdout",
     "output_type": "stream",
     "text": [
      "Successfully moved 2 emails from no-reply@flashgetkids.com to Bin!\n"
     ]
    }
   ],
   "source": [
    "# Search for emails from sender\n",
    "status, response = mail.search(None, f'(FROM \"{sender}\")')\n",
    "\n",
    "# Get email IDs\n",
    "email_ids = response[0].split()\n",
    "\n",
    "# Move emails to \"Bin\" folder\n",
    "for email_id in email_ids:\n",
    "    mail.store(email_id, '+X-GM-LABELS', '\\\\Trash')\n",
    "\n",
    "# Expunge deleted emails\n",
    "mail.expunge()\n",
    "print(f\"Successfully moved {len(email_ids)} emails from {sender} to Bin!\")\n"
   ]
  },
  {
   "cell_type": "markdown",
   "id": "149e227e",
   "metadata": {},
   "source": [
    "# Calculate total emails across all domains"
   ]
  },
  {
   "cell_type": "code",
   "execution_count": 14,
   "id": "05ccb2e4",
   "metadata": {},
   "outputs": [
    {
     "name": "stdout",
     "output_type": "stream",
     "text": [
      "Domain: email.bing.com> (2.70% )\n",
      "Domain: communication.microsoft.com> (0.90% )\n",
      "Domain: otter.ai> (0.90% )\n",
      "Domain: datacamp.com> (10.81% )\n",
      "Domain: tome.app> (1.80% )\n",
      "Domain: updates.otter.ai> (5.41% )\n",
      "Domain: marketing.otter.ai> (0.90% )\n",
      "Domain: emails.chegg.com> (1.80% )\n",
      "Domain: mailer.resume-now.com> (3.60% )\n",
      "Domain: google.com> (0.90% )\n",
      "Domain: waveroom.com> (0.90% )\n",
      "Domain: discover.pinterest.com> (6.31% )\n",
      "Domain: quora.com> (40.54% )\n",
      "Domain: ideas.pinterest.com> (3.60% )\n",
      "Domain: explore.pinterest.com> (0.90% )\n",
      "Domain: mail.beehiiv.com> (1.80% )\n",
      "Domain: newsletter.springernature.com> (2.70% )\n",
      "Domain: inspire.pinterest.com> (0.90% )\n",
      "Domain: accounts.google.com> (1.80% )\n",
      "Domain: amcatmail.com> (0.90% )\n",
      "Domain: amcatmail.com (0.90% )\n",
      "Domain: careerflow.ai> (0.90% )\n",
      "Domain: resumeworded.com> (0.90% )\n",
      "Domain: mautem.resumeworded.com> (2.70% )\n",
      "Domain: vbithyd.ac.in> (0.90% )\n",
      "Domain: youtube.com> (0.90% )\n",
      "Domain: flowcv.com> (0.90% )\n",
      "Domain: flashgetkids.com> (1.80% )\n"
     ]
    }
   ],
   "source": [
    "\n",
    "total_emails_across_domains = sum(len(emails) for emails in emails_by_domain.values())\n",
    "\n",
    "# Print emails by domain with percentage based on the total number of domains\n",
    "\n",
    "for domain, emails in emails_by_domain.items():\n",
    "    domain_percentage = (len(emails) / total_emails_across_domains) * 100\n",
    "    print(f\"Domain: {domain} ({domain_percentage:.2f}% )\")\n",
    "    "
   ]
  },
  {
   "cell_type": "markdown",
   "id": "4280ea89",
   "metadata": {},
   "source": [
    "# Check if the Subject Or Body contains spam keywords"
   ]
  },
  {
   "cell_type": "code",
   "execution_count": 22,
   "id": "8a2369ad",
   "metadata": {},
   "outputs": [],
   "source": [
    "spam_keywords = [\n",
    "    \"click here\", \"win a prize\", \"free gift\", \"claim your reward\", \"urgent\", \"act now\", \n",
    "    \"limited time offer\", \"apply now\", \"guaranteed\", \"risk-free\", \"no cost\", \"100% free\", \n",
    "    \"money back\", \"cheap\", \"earn money\", \"exclusive deal\", \"lower rates\", \"get rich quick\", \n",
    "    \"credit score\", \"pre-approved\", \"save big\", \"cash bonus\", \"buy now\", \"make money\", \n",
    "    \"free\", \"win\", \"winner\", \"limited time offer\"\n",
    "]"
   ]
  },
  {
   "cell_type": "code",
   "execution_count": 23,
   "id": "2650dd92",
   "metadata": {},
   "outputs": [
    {
     "name": "stdout",
     "output_type": "stream",
     "text": [
      "Domain: datacamp.com>, Subject: Challenge for Sai: Complete 1 free chapter today!, From: Amanda at DataCamp <team@datacamp.com>\n",
      "Do you want to delete this email? (Y/N): y\n",
      "Email deleted.\n",
      "Domain: waveroom.com>, Subject: Introducing Noise Removal & Making Waveroom Free for Everyone, From: Waveroom <noreply@waveroom.com>\n",
      "Do you want to delete this email? (Y/N): y\n",
      "Email deleted.\n",
      "Domain: quora.com>, Subject: What are the most mind blowing facts about Indian politicians?, From: Quora Suggested Spaces <knowledgenwisdom-space@quora.com>\n",
      "Do you want to delete this email? (Y/N): y\n",
      "Email deleted.\n"
     ]
    },
    {
     "data": {
      "text/plain": [
       "('OK', [b'15', b'33', b'90'])"
      ]
     },
     "execution_count": 23,
     "metadata": {},
     "output_type": "execute_result"
    }
   ],
   "source": [
    "# Check for spam emails based on subject or body\n",
    "for domain, emails in emails_by_domain.items():\n",
    "    for email_info in emails:\n",
    "        subject = email_info[\"Subject\"].lower()\n",
    "        body = email_info.get(\"Body\", \"\").lower()\n",
    "\n",
    "        spam_found = False\n",
    "\n",
    "        # Check for spam keywords in the subject\n",
    "        if any(keyword in subject for keyword in spam_keywords):\n",
    "            print(f\"Domain: {domain}, Subject: {email_info['Subject']}, From: {email_info['From']}\")\n",
    "            spam_found = True\n",
    "\n",
    "        # If spam is found, ask for deletion\n",
    "        if spam_found:\n",
    "            delete_confirmation = input(\"Do you want to delete this email? (Y/N): \").strip().upper()\n",
    "            if delete_confirmation == \"Y\":\n",
    "                mail.store(email_info[\"ID\"], '+FLAGS', '\\\\Deleted')\n",
    "                print(\"Email deleted.\")\n",
    "            else:\n",
    "                print(\"Email not deleted.\")\n",
    "\n",
    "# Expunge deleted emails\n",
    "mail.expunge()"
   ]
  },
  {
   "cell_type": "code",
   "execution_count": 24,
   "id": "9d8b39ec",
   "metadata": {},
   "outputs": [
    {
     "data": {
      "text/plain": [
       "('BYE', [b'LOGOUT Requested'])"
      ]
     },
     "execution_count": 24,
     "metadata": {},
     "output_type": "execute_result"
    }
   ],
   "source": [
    "# Close IMAP connection\n",
    "mail.close()\n",
    "mail.logout()"
   ]
  },
  {
   "cell_type": "code",
   "execution_count": null,
   "id": "003e8279",
   "metadata": {},
   "outputs": [],
   "source": []
  }
 ],
 "metadata": {
  "kernelspec": {
   "display_name": "Python 3 (ipykernel)",
   "language": "python",
   "name": "python3"
  },
  "language_info": {
   "codemirror_mode": {
    "name": "ipython",
    "version": 3
   },
   "file_extension": ".py",
   "mimetype": "text/x-python",
   "name": "python",
   "nbconvert_exporter": "python",
   "pygments_lexer": "ipython3",
   "version": "3.11.5"
  }
 },
 "nbformat": 4,
 "nbformat_minor": 5
}
